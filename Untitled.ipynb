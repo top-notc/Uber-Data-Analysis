{
 "cells": [
  {
   "cell_type": "code",
   "execution_count": 46,
   "id": "9544d98c",
   "metadata": {},
   "outputs": [],
   "source": [
    "import pandas as pd\n",
    "import numpy as np\n",
    "import matplotlib as plt\n",
    "import seaborn\n",
    "import datetime as dt\n",
    "%matplotlib inline\n"
   ]
  },
  {
   "cell_type": "code",
   "execution_count": 47,
   "id": "d50d21ab",
   "metadata": {},
   "outputs": [],
   "source": [
    "df = pd.read_csv('My Uber Drives - 2016.csv')"
   ]
  },
  {
   "cell_type": "code",
   "execution_count": 48,
   "id": "e3b63537",
   "metadata": {},
   "outputs": [
    {
     "data": {
      "text/html": [
       "<div>\n",
       "<style scoped>\n",
       "    .dataframe tbody tr th:only-of-type {\n",
       "        vertical-align: middle;\n",
       "    }\n",
       "\n",
       "    .dataframe tbody tr th {\n",
       "        vertical-align: top;\n",
       "    }\n",
       "\n",
       "    .dataframe thead th {\n",
       "        text-align: right;\n",
       "    }\n",
       "</style>\n",
       "<table border=\"1\" class=\"dataframe\">\n",
       "  <thead>\n",
       "    <tr style=\"text-align: right;\">\n",
       "      <th></th>\n",
       "      <th>START_DATE*</th>\n",
       "      <th>END_DATE*</th>\n",
       "      <th>CATEGORY*</th>\n",
       "      <th>START*</th>\n",
       "      <th>STOP*</th>\n",
       "      <th>MILES*</th>\n",
       "      <th>PURPOSE*</th>\n",
       "    </tr>\n",
       "  </thead>\n",
       "  <tbody>\n",
       "    <tr>\n",
       "      <th>0</th>\n",
       "      <td>1/1/2016 21:11</td>\n",
       "      <td>1/1/2016 21:17</td>\n",
       "      <td>Business</td>\n",
       "      <td>Fort Pierce</td>\n",
       "      <td>Fort Pierce</td>\n",
       "      <td>5.1</td>\n",
       "      <td>Meal/Entertain</td>\n",
       "    </tr>\n",
       "    <tr>\n",
       "      <th>1</th>\n",
       "      <td>1/2/2016 1:25</td>\n",
       "      <td>1/2/2016 1:37</td>\n",
       "      <td>Business</td>\n",
       "      <td>Fort Pierce</td>\n",
       "      <td>Fort Pierce</td>\n",
       "      <td>5.0</td>\n",
       "      <td>NaN</td>\n",
       "    </tr>\n",
       "    <tr>\n",
       "      <th>2</th>\n",
       "      <td>1/2/2016 20:25</td>\n",
       "      <td>1/2/2016 20:38</td>\n",
       "      <td>Business</td>\n",
       "      <td>Fort Pierce</td>\n",
       "      <td>Fort Pierce</td>\n",
       "      <td>4.8</td>\n",
       "      <td>Errand/Supplies</td>\n",
       "    </tr>\n",
       "    <tr>\n",
       "      <th>3</th>\n",
       "      <td>1/5/2016 17:31</td>\n",
       "      <td>1/5/2016 17:45</td>\n",
       "      <td>Business</td>\n",
       "      <td>Fort Pierce</td>\n",
       "      <td>Fort Pierce</td>\n",
       "      <td>4.7</td>\n",
       "      <td>Meeting</td>\n",
       "    </tr>\n",
       "    <tr>\n",
       "      <th>4</th>\n",
       "      <td>1/6/2016 14:42</td>\n",
       "      <td>1/6/2016 15:49</td>\n",
       "      <td>Business</td>\n",
       "      <td>Fort Pierce</td>\n",
       "      <td>West Palm Beach</td>\n",
       "      <td>63.7</td>\n",
       "      <td>Customer Visit</td>\n",
       "    </tr>\n",
       "  </tbody>\n",
       "</table>\n",
       "</div>"
      ],
      "text/plain": [
       "      START_DATE*       END_DATE* CATEGORY*       START*            STOP*  \\\n",
       "0  1/1/2016 21:11  1/1/2016 21:17  Business  Fort Pierce      Fort Pierce   \n",
       "1   1/2/2016 1:25   1/2/2016 1:37  Business  Fort Pierce      Fort Pierce   \n",
       "2  1/2/2016 20:25  1/2/2016 20:38  Business  Fort Pierce      Fort Pierce   \n",
       "3  1/5/2016 17:31  1/5/2016 17:45  Business  Fort Pierce      Fort Pierce   \n",
       "4  1/6/2016 14:42  1/6/2016 15:49  Business  Fort Pierce  West Palm Beach   \n",
       "\n",
       "   MILES*         PURPOSE*  \n",
       "0     5.1   Meal/Entertain  \n",
       "1     5.0              NaN  \n",
       "2     4.8  Errand/Supplies  \n",
       "3     4.7          Meeting  \n",
       "4    63.7   Customer Visit  "
      ]
     },
     "execution_count": 48,
     "metadata": {},
     "output_type": "execute_result"
    }
   ],
   "source": [
    "df.head()"
   ]
  },
  {
   "cell_type": "code",
   "execution_count": 49,
   "id": "7314b20f",
   "metadata": {},
   "outputs": [
    {
     "data": {
      "text/plain": [
       "8092"
      ]
     },
     "execution_count": 49,
     "metadata": {},
     "output_type": "execute_result"
    }
   ],
   "source": [
    "df.size"
   ]
  },
  {
   "cell_type": "code",
   "execution_count": 50,
   "id": "c240218b",
   "metadata": {},
   "outputs": [
    {
     "data": {
      "text/plain": [
       "(1156, 7)"
      ]
     },
     "execution_count": 50,
     "metadata": {},
     "output_type": "execute_result"
    }
   ],
   "source": [
    "df.shape"
   ]
  },
  {
   "cell_type": "code",
   "execution_count": 51,
   "id": "fc11cd52",
   "metadata": {},
   "outputs": [
    {
     "data": {
      "text/plain": [
       "0            Fort Pierce\n",
       "1            Fort Pierce\n",
       "2            Fort Pierce\n",
       "3            Fort Pierce\n",
       "4            Fort Pierce\n",
       "              ...       \n",
       "1151             Kar?chi\n",
       "1152    Unknown Location\n",
       "1153          Katunayake\n",
       "1154             Gampaha\n",
       "1155                 NaN\n",
       "Name: START*, Length: 1156, dtype: object"
      ]
     },
     "execution_count": 51,
     "metadata": {},
     "output_type": "execute_result"
    }
   ],
   "source": [
    "df['START*']"
   ]
  },
  {
   "cell_type": "code",
   "execution_count": 52,
   "id": "257b61e3",
   "metadata": {},
   "outputs": [],
   "source": [
    "# List of cities to be removed\n",
    "cities_to_remove = ['Islamabad', 'Karachi', 'Lahore', 'Nugegoda', 'Capitol One', 'K Street', 'Agnew', 'Parkwood', 'Central', 'Florence', 'The Drag']\n",
    "\n",
    "# Create a mask to identify rows with the specified cities in \"START\" or \"STOP\" columns\n",
    "mask = df['START*'].isin(cities_to_remove) | df['STOP*'].isin(cities_to_remove)\n",
    "\n",
    "# Filter the DataFrame by the inverted mask to keep rows not containing the specified cities\n",
    "df = df[~mask]"
   ]
  },
  {
   "cell_type": "code",
   "execution_count": 53,
   "id": "986f5407",
   "metadata": {},
   "outputs": [
    {
     "name": "stdout",
     "output_type": "stream",
     "text": [
      "<class 'pandas.core.frame.DataFrame'>\n",
      "Int64Index: 970 entries, 0 to 1155\n",
      "Data columns (total 7 columns):\n",
      " #   Column       Non-Null Count  Dtype  \n",
      "---  ------       --------------  -----  \n",
      " 0   START_DATE*  970 non-null    object \n",
      " 1   END_DATE*    969 non-null    object \n",
      " 2   CATEGORY*    969 non-null    object \n",
      " 3   START*       969 non-null    object \n",
      " 4   STOP*        969 non-null    object \n",
      " 5   MILES*       970 non-null    float64\n",
      " 6   PURPOSE*     588 non-null    object \n",
      "dtypes: float64(1), object(6)\n",
      "memory usage: 60.6+ KB\n"
     ]
    }
   ],
   "source": [
    "df.info()"
   ]
  },
  {
   "cell_type": "code",
   "execution_count": 54,
   "id": "e831fd48",
   "metadata": {},
   "outputs": [
    {
     "data": {
      "text/html": [
       "<div>\n",
       "<style scoped>\n",
       "    .dataframe tbody tr th:only-of-type {\n",
       "        vertical-align: middle;\n",
       "    }\n",
       "\n",
       "    .dataframe tbody tr th {\n",
       "        vertical-align: top;\n",
       "    }\n",
       "\n",
       "    .dataframe thead th {\n",
       "        text-align: right;\n",
       "    }\n",
       "</style>\n",
       "<table border=\"1\" class=\"dataframe\">\n",
       "  <thead>\n",
       "    <tr style=\"text-align: right;\">\n",
       "      <th></th>\n",
       "      <th>MILES*</th>\n",
       "    </tr>\n",
       "  </thead>\n",
       "  <tbody>\n",
       "    <tr>\n",
       "      <th>count</th>\n",
       "      <td>970.000000</td>\n",
       "    </tr>\n",
       "    <tr>\n",
       "      <th>mean</th>\n",
       "      <td>23.630722</td>\n",
       "    </tr>\n",
       "    <tr>\n",
       "      <th>std</th>\n",
       "      <td>392.149486</td>\n",
       "    </tr>\n",
       "    <tr>\n",
       "      <th>min</th>\n",
       "      <td>0.500000</td>\n",
       "    </tr>\n",
       "    <tr>\n",
       "      <th>25%</th>\n",
       "      <td>3.000000</td>\n",
       "    </tr>\n",
       "    <tr>\n",
       "      <th>50%</th>\n",
       "      <td>6.100000</td>\n",
       "    </tr>\n",
       "    <tr>\n",
       "      <th>75%</th>\n",
       "      <td>11.000000</td>\n",
       "    </tr>\n",
       "    <tr>\n",
       "      <th>max</th>\n",
       "      <td>12204.700000</td>\n",
       "    </tr>\n",
       "  </tbody>\n",
       "</table>\n",
       "</div>"
      ],
      "text/plain": [
       "             MILES*\n",
       "count    970.000000\n",
       "mean      23.630722\n",
       "std      392.149486\n",
       "min        0.500000\n",
       "25%        3.000000\n",
       "50%        6.100000\n",
       "75%       11.000000\n",
       "max    12204.700000"
      ]
     },
     "execution_count": 54,
     "metadata": {},
     "output_type": "execute_result"
    }
   ],
   "source": [
    "df.describe()"
   ]
  },
  {
   "cell_type": "code",
   "execution_count": 55,
   "id": "5799961f",
   "metadata": {},
   "outputs": [
    {
     "data": {
      "text/plain": [
       "Index(['START_DATE*', 'END_DATE*', 'CATEGORY*', 'START*', 'STOP*', 'MILES*',\n",
       "       'PURPOSE*'],\n",
       "      dtype='object')"
      ]
     },
     "execution_count": 55,
     "metadata": {},
     "output_type": "execute_result"
    }
   ],
   "source": [
    "df.columns"
   ]
  },
  {
   "cell_type": "code",
   "execution_count": 56,
   "id": "8618e391",
   "metadata": {},
   "outputs": [],
   "source": [
    "# removing underscore from the coulumns \n",
    "df.rename(columns = {'START_DATE*' : 'StartDate', 'END_DATE*' : 'EndDate', 'CATEGORY*' : 'Category', 'START*': 'Start', 'STOP*' : 'Stop',\n",
    " 'MILES*' : 'Miles', 'PURPOSE*' : 'Purpose'}, inplace = True )\n"
   ]
  },
  {
   "cell_type": "code",
   "execution_count": 57,
   "id": "b6520929",
   "metadata": {},
   "outputs": [
    {
     "data": {
      "text/plain": [
       "Index(['StartDate', 'EndDate', 'Category', 'Start', 'Stop', 'Miles',\n",
       "       'Purpose'],\n",
       "      dtype='object')"
      ]
     },
     "execution_count": 57,
     "metadata": {},
     "output_type": "execute_result"
    }
   ],
   "source": [
    "df.columns"
   ]
  },
  {
   "cell_type": "code",
   "execution_count": 58,
   "id": "e3031422",
   "metadata": {},
   "outputs": [],
   "source": [
    "df.drop([1155], axis =0, inplace=True)"
   ]
  },
  {
   "cell_type": "code",
   "execution_count": 59,
   "id": "bd8e02af",
   "metadata": {},
   "outputs": [],
   "source": [
    "# Convert datatype of StartDate into datetime\n",
    "df.StartDate = pd.to_datetime(df.StartDate)"
   ]
  },
  {
   "cell_type": "code",
   "execution_count": 60,
   "id": "180e2eea",
   "metadata": {},
   "outputs": [],
   "source": [
    "df.EndDate = pd.to_datetime(df.EndDate)"
   ]
  },
  {
   "cell_type": "code",
   "execution_count": 61,
   "id": "daf79be0",
   "metadata": {},
   "outputs": [
    {
     "data": {
      "text/plain": [
       "StartDate      0\n",
       "EndDate        0\n",
       "Category       0\n",
       "Start          0\n",
       "Stop           0\n",
       "Miles          0\n",
       "Purpose      381\n",
       "dtype: int64"
      ]
     },
     "execution_count": 61,
     "metadata": {},
     "output_type": "execute_result"
    }
   ],
   "source": [
    "# chech null\n",
    "df.isnull().sum()"
   ]
  },
  {
   "cell_type": "code",
   "execution_count": 62,
   "id": "8849a0d7",
   "metadata": {},
   "outputs": [
    {
     "data": {
      "text/plain": [
       "StartDate    0\n",
       "EndDate      0\n",
       "Category     0\n",
       "Start        0\n",
       "Stop         0\n",
       "Miles        0\n",
       "Purpose      0\n",
       "dtype: int64"
      ]
     },
     "execution_count": 62,
     "metadata": {},
     "output_type": "execute_result"
    }
   ],
   "source": [
    "#making the nulled filled with string not applicable\n",
    "na = 'Not Applicable'\n",
    "df.Purpose = df.Purpose.fillna('NA')\n",
    "df.isnull().sum()"
   ]
  },
  {
   "cell_type": "code",
   "execution_count": 63,
   "id": "08953134",
   "metadata": {},
   "outputs": [
    {
     "data": {
      "text/plain": [
       "0      Meal/Entertain\n",
       "1                  NA\n",
       "2     Errand/Supplies\n",
       "3             Meeting\n",
       "4      Customer Visit\n",
       "5      Meal/Entertain\n",
       "6             Meeting\n",
       "7             Meeting\n",
       "8             Meeting\n",
       "9      Customer Visit\n",
       "10            Meeting\n",
       "11            Meeting\n",
       "12            Meeting\n",
       "13     Temporary Site\n",
       "14    Errand/Supplies\n",
       "15     Meal/Entertain\n",
       "16     Meal/Entertain\n",
       "17     Meal/Entertain\n",
       "18     Meal/Entertain\n",
       "19    Errand/Supplies\n",
       "Name: Purpose, dtype: object"
      ]
     },
     "execution_count": 63,
     "metadata": {},
     "output_type": "execute_result"
    }
   ],
   "source": [
    "df.Purpose.head(20)"
   ]
  },
  {
   "cell_type": "code",
   "execution_count": 64,
   "id": "64ad1773",
   "metadata": {},
   "outputs": [
    {
     "data": {
      "text/plain": [
       "0"
      ]
     },
     "execution_count": 64,
     "metadata": {},
     "output_type": "execute_result"
    }
   ],
   "source": [
    "df.duplicated().sum()\n",
    "df = df.drop_duplicates()\n",
    "df.duplicated().sum()"
   ]
  },
  {
   "cell_type": "code",
   "execution_count": 65,
   "id": "d8f2a791",
   "metadata": {},
   "outputs": [
    {
     "data": {
      "text/plain": [
       "0    2016\n",
       "1    2016\n",
       "2    2016\n",
       "3    2016\n",
       "4    2016\n",
       "Name: Year, dtype: int64"
      ]
     },
     "execution_count": 65,
     "metadata": {},
     "output_type": "execute_result"
    }
   ],
   "source": [
    "df['Year'] = df.StartDate.dt.year\n",
    "df['Year'].head()"
   ]
  },
  {
   "cell_type": "code",
   "execution_count": 66,
   "id": "7a7973a3",
   "metadata": {},
   "outputs": [
    {
     "data": {
      "text/plain": [
       "0    1\n",
       "1    1\n",
       "2    1\n",
       "3    1\n",
       "4    1\n",
       "Name: Month, dtype: int64"
      ]
     },
     "execution_count": 66,
     "metadata": {},
     "output_type": "execute_result"
    }
   ],
   "source": [
    "df['Month'] = df.StartDate.dt.month\n",
    "df['Month'].head()"
   ]
  },
  {
   "cell_type": "code",
   "execution_count": 67,
   "id": "f25b1965",
   "metadata": {},
   "outputs": [
    {
     "data": {
      "text/plain": [
       "0    1\n",
       "1    2\n",
       "2    2\n",
       "3    5\n",
       "4    6\n",
       "Name: Day, dtype: int64"
      ]
     },
     "execution_count": 67,
     "metadata": {},
     "output_type": "execute_result"
    }
   ],
   "source": [
    "df['Day'] = df.StartDate.dt.day\n",
    "df['Day'].head()"
   ]
  },
  {
   "cell_type": "code",
   "execution_count": 68,
   "id": "18289cc4",
   "metadata": {},
   "outputs": [
    {
     "data": {
      "text/plain": [
       "0    21\n",
       "1     1\n",
       "2    20\n",
       "3    17\n",
       "4    14\n",
       "Name: StartHour, dtype: int64"
      ]
     },
     "execution_count": 68,
     "metadata": {},
     "output_type": "execute_result"
    }
   ],
   "source": [
    "df['StartHour'] = df.StartDate.dt.hour\n",
    "df['StartHour'].head()"
   ]
  },
  {
   "cell_type": "code",
   "execution_count": 69,
   "id": "1b1585c4",
   "metadata": {},
   "outputs": [],
   "source": [
    "def categorize_hour(hour):\n",
    "    if hour >= 0 and hour < 6:\n",
    "        return 'Night'\n",
    "    elif hour >= 6 and hour < 18:\n",
    "        return 'Day'\n",
    "    else:\n",
    "        return 'Night'"
   ]
  },
  {
   "cell_type": "code",
   "execution_count": 70,
   "id": "c7142610",
   "metadata": {},
   "outputs": [
    {
     "data": {
      "text/plain": [
       "0    Night\n",
       "1    Night\n",
       "2    Night\n",
       "3      Day\n",
       "4      Day\n",
       "Name: Time of Day, dtype: object"
      ]
     },
     "execution_count": 70,
     "metadata": {},
     "output_type": "execute_result"
    }
   ],
   "source": [
    "df['Time of Day'] = df['StartHour'].apply(categorize_hour)\n",
    "df['Time of Day'].head()"
   ]
  },
  {
   "cell_type": "code",
   "execution_count": 71,
   "id": "75795ba2",
   "metadata": {},
   "outputs": [
    {
     "data": {
      "text/plain": [
       "0   0 days 00:06:00\n",
       "1   0 days 00:12:00\n",
       "2   0 days 00:13:00\n",
       "3   0 days 00:14:00\n",
       "4   0 days 01:07:00\n",
       "Name: Time Difference, dtype: timedelta64[ns]"
      ]
     },
     "execution_count": 71,
     "metadata": {},
     "output_type": "execute_result"
    }
   ],
   "source": [
    "df['Time Difference'] = df['EndDate'] - df['StartDate']\n",
    "df['Time Difference'].head()"
   ]
  },
  {
   "cell_type": "code",
   "execution_count": 72,
   "id": "f03c9b00",
   "metadata": {},
   "outputs": [
    {
     "data": {
      "text/plain": [
       "0    0.10\n",
       "1    0.20\n",
       "2    0.22\n",
       "3    0.23\n",
       "4    1.12\n",
       "Name: Total Hours, dtype: float64"
      ]
     },
     "execution_count": 72,
     "metadata": {},
     "output_type": "execute_result"
    }
   ],
   "source": [
    "df['Total Hours'] = (df['Time Difference'].apply(lambda x: x.total_seconds() / 3600)).round(2)\n",
    "df['Total Hours'].head()"
   ]
  },
  {
   "cell_type": "code",
   "execution_count": 73,
   "id": "d824e601",
   "metadata": {},
   "outputs": [
    {
     "data": {
      "text/plain": [
       "0    False\n",
       "1    False\n",
       "2    False\n",
       "3    False\n",
       "4     True\n",
       "Name: MoreThan1Hour, dtype: bool"
      ]
     },
     "execution_count": 73,
     "metadata": {},
     "output_type": "execute_result"
    }
   ],
   "source": [
    "df['MoreThan1Hour'] = df['Total Hours'].apply(lambda x : x > 1, True, False)\n",
    "df['MoreThan1Hour'].head()"
   ]
  },
  {
   "cell_type": "code",
   "execution_count": 74,
   "id": "7d7328b0",
   "metadata": {},
   "outputs": [
    {
     "data": {
      "text/plain": [
       "0     6.0\n",
       "1    12.0\n",
       "2    13.0\n",
       "3    14.0\n",
       "4    67.0\n",
       "Name: Time Difference (Minutes), dtype: float64"
      ]
     },
     "execution_count": 74,
     "metadata": {},
     "output_type": "execute_result"
    }
   ],
   "source": [
    "df['Time Difference (Minutes)'] = ((df['EndDate'] - df['StartDate']).dt.total_seconds() / 60).round(2)\n",
    "df['Time Difference (Minutes)'].head()"
   ]
  },
  {
   "cell_type": "code",
   "execution_count": 75,
   "id": "3eb6e3cd",
   "metadata": {},
   "outputs": [
    {
     "data": {
      "text/html": [
       "<div>\n",
       "<style scoped>\n",
       "    .dataframe tbody tr th:only-of-type {\n",
       "        vertical-align: middle;\n",
       "    }\n",
       "\n",
       "    .dataframe tbody tr th {\n",
       "        vertical-align: top;\n",
       "    }\n",
       "\n",
       "    .dataframe thead th {\n",
       "        text-align: right;\n",
       "    }\n",
       "</style>\n",
       "<table border=\"1\" class=\"dataframe\">\n",
       "  <thead>\n",
       "    <tr style=\"text-align: right;\">\n",
       "      <th></th>\n",
       "      <th>StartDate</th>\n",
       "      <th>EndDate</th>\n",
       "      <th>Category</th>\n",
       "      <th>Start</th>\n",
       "      <th>Stop</th>\n",
       "      <th>Miles</th>\n",
       "      <th>Purpose</th>\n",
       "      <th>Year</th>\n",
       "      <th>Month</th>\n",
       "      <th>Day</th>\n",
       "      <th>StartHour</th>\n",
       "      <th>Time of Day</th>\n",
       "      <th>Time Difference</th>\n",
       "      <th>Total Hours</th>\n",
       "      <th>MoreThan1Hour</th>\n",
       "      <th>Time Difference (Minutes)</th>\n",
       "    </tr>\n",
       "  </thead>\n",
       "  <tbody>\n",
       "    <tr>\n",
       "      <th>0</th>\n",
       "      <td>2016-01-01 21:11:00</td>\n",
       "      <td>2016-01-01 21:17:00</td>\n",
       "      <td>Business</td>\n",
       "      <td>Fort Pierce</td>\n",
       "      <td>Fort Pierce</td>\n",
       "      <td>5.1</td>\n",
       "      <td>Meal/Entertain</td>\n",
       "      <td>2016</td>\n",
       "      <td>1</td>\n",
       "      <td>1</td>\n",
       "      <td>21</td>\n",
       "      <td>Night</td>\n",
       "      <td>0 days 00:06:00</td>\n",
       "      <td>0.10</td>\n",
       "      <td>False</td>\n",
       "      <td>6.0</td>\n",
       "    </tr>\n",
       "    <tr>\n",
       "      <th>1</th>\n",
       "      <td>2016-01-02 01:25:00</td>\n",
       "      <td>2016-01-02 01:37:00</td>\n",
       "      <td>Business</td>\n",
       "      <td>Fort Pierce</td>\n",
       "      <td>Fort Pierce</td>\n",
       "      <td>5.0</td>\n",
       "      <td>NA</td>\n",
       "      <td>2016</td>\n",
       "      <td>1</td>\n",
       "      <td>2</td>\n",
       "      <td>1</td>\n",
       "      <td>Night</td>\n",
       "      <td>0 days 00:12:00</td>\n",
       "      <td>0.20</td>\n",
       "      <td>False</td>\n",
       "      <td>12.0</td>\n",
       "    </tr>\n",
       "    <tr>\n",
       "      <th>2</th>\n",
       "      <td>2016-01-02 20:25:00</td>\n",
       "      <td>2016-01-02 20:38:00</td>\n",
       "      <td>Business</td>\n",
       "      <td>Fort Pierce</td>\n",
       "      <td>Fort Pierce</td>\n",
       "      <td>4.8</td>\n",
       "      <td>Errand/Supplies</td>\n",
       "      <td>2016</td>\n",
       "      <td>1</td>\n",
       "      <td>2</td>\n",
       "      <td>20</td>\n",
       "      <td>Night</td>\n",
       "      <td>0 days 00:13:00</td>\n",
       "      <td>0.22</td>\n",
       "      <td>False</td>\n",
       "      <td>13.0</td>\n",
       "    </tr>\n",
       "    <tr>\n",
       "      <th>3</th>\n",
       "      <td>2016-01-05 17:31:00</td>\n",
       "      <td>2016-01-05 17:45:00</td>\n",
       "      <td>Business</td>\n",
       "      <td>Fort Pierce</td>\n",
       "      <td>Fort Pierce</td>\n",
       "      <td>4.7</td>\n",
       "      <td>Meeting</td>\n",
       "      <td>2016</td>\n",
       "      <td>1</td>\n",
       "      <td>5</td>\n",
       "      <td>17</td>\n",
       "      <td>Day</td>\n",
       "      <td>0 days 00:14:00</td>\n",
       "      <td>0.23</td>\n",
       "      <td>False</td>\n",
       "      <td>14.0</td>\n",
       "    </tr>\n",
       "    <tr>\n",
       "      <th>4</th>\n",
       "      <td>2016-01-06 14:42:00</td>\n",
       "      <td>2016-01-06 15:49:00</td>\n",
       "      <td>Business</td>\n",
       "      <td>Fort Pierce</td>\n",
       "      <td>West Palm Beach</td>\n",
       "      <td>63.7</td>\n",
       "      <td>Customer Visit</td>\n",
       "      <td>2016</td>\n",
       "      <td>1</td>\n",
       "      <td>6</td>\n",
       "      <td>14</td>\n",
       "      <td>Day</td>\n",
       "      <td>0 days 01:07:00</td>\n",
       "      <td>1.12</td>\n",
       "      <td>True</td>\n",
       "      <td>67.0</td>\n",
       "    </tr>\n",
       "  </tbody>\n",
       "</table>\n",
       "</div>"
      ],
      "text/plain": [
       "            StartDate             EndDate  Category        Start  \\\n",
       "0 2016-01-01 21:11:00 2016-01-01 21:17:00  Business  Fort Pierce   \n",
       "1 2016-01-02 01:25:00 2016-01-02 01:37:00  Business  Fort Pierce   \n",
       "2 2016-01-02 20:25:00 2016-01-02 20:38:00  Business  Fort Pierce   \n",
       "3 2016-01-05 17:31:00 2016-01-05 17:45:00  Business  Fort Pierce   \n",
       "4 2016-01-06 14:42:00 2016-01-06 15:49:00  Business  Fort Pierce   \n",
       "\n",
       "              Stop  Miles          Purpose  Year  Month  Day  StartHour  \\\n",
       "0      Fort Pierce    5.1   Meal/Entertain  2016      1    1         21   \n",
       "1      Fort Pierce    5.0               NA  2016      1    2          1   \n",
       "2      Fort Pierce    4.8  Errand/Supplies  2016      1    2         20   \n",
       "3      Fort Pierce    4.7          Meeting  2016      1    5         17   \n",
       "4  West Palm Beach   63.7   Customer Visit  2016      1    6         14   \n",
       "\n",
       "  Time of Day Time Difference  Total Hours  MoreThan1Hour  \\\n",
       "0       Night 0 days 00:06:00         0.10          False   \n",
       "1       Night 0 days 00:12:00         0.20          False   \n",
       "2       Night 0 days 00:13:00         0.22          False   \n",
       "3         Day 0 days 00:14:00         0.23          False   \n",
       "4         Day 0 days 01:07:00         1.12           True   \n",
       "\n",
       "   Time Difference (Minutes)  \n",
       "0                        6.0  \n",
       "1                       12.0  \n",
       "2                       13.0  \n",
       "3                       14.0  \n",
       "4                       67.0  "
      ]
     },
     "execution_count": 75,
     "metadata": {},
     "output_type": "execute_result"
    }
   ],
   "source": [
    "df.head()"
   ]
  },
  {
   "cell_type": "code",
   "execution_count": 76,
   "id": "9973f54f",
   "metadata": {},
   "outputs": [
    {
     "data": {
      "text/plain": [
       "(968, 16)"
      ]
     },
     "execution_count": 76,
     "metadata": {},
     "output_type": "execute_result"
    }
   ],
   "source": [
    "df.shape"
   ]
  },
  {
   "cell_type": "code",
   "execution_count": 77,
   "id": "79d02a08",
   "metadata": {},
   "outputs": [
    {
     "data": {
      "text/plain": [
       "0    January\n",
       "1    January\n",
       "2    January\n",
       "3    January\n",
       "4    January\n",
       "Name: month_name, dtype: object"
      ]
     },
     "execution_count": 77,
     "metadata": {},
     "output_type": "execute_result"
    }
   ],
   "source": [
    "df['month_name'] = df['StartDate'].dt.month_name()\n",
    "df['month_name'].head()"
   ]
  },
  {
   "cell_type": "code",
   "execution_count": 78,
   "id": "1bf3c906",
   "metadata": {},
   "outputs": [
    {
     "data": {
      "text/plain": [
       "0       Friday\n",
       "1     Saturday\n",
       "2     Saturday\n",
       "3      Tuesday\n",
       "4    Wednesday\n",
       "Name: DayName, dtype: object"
      ]
     },
     "execution_count": 78,
     "metadata": {},
     "output_type": "execute_result"
    }
   ],
   "source": [
    "df['DayName'] = df['StartDate'].dt.day_name()\n",
    "df['DayName'].head()"
   ]
  },
  {
   "cell_type": "code",
   "execution_count": 79,
   "id": "95408e30",
   "metadata": {},
   "outputs": [],
   "source": [
    "df.to_csv('UberCleanDate.csv')"
   ]
  },
  {
   "cell_type": "code",
   "execution_count": null,
   "id": "b38c2439",
   "metadata": {},
   "outputs": [],
   "source": []
  },
  {
   "cell_type": "code",
   "execution_count": null,
   "id": "d7d1d121",
   "metadata": {},
   "outputs": [],
   "source": []
  },
  {
   "cell_type": "code",
   "execution_count": null,
   "id": "093dd4e8",
   "metadata": {},
   "outputs": [],
   "source": []
  },
  {
   "cell_type": "code",
   "execution_count": null,
   "id": "6570b3e2",
   "metadata": {},
   "outputs": [],
   "source": []
  },
  {
   "cell_type": "code",
   "execution_count": null,
   "id": "ec895021",
   "metadata": {},
   "outputs": [],
   "source": []
  }
 ],
 "metadata": {
  "kernelspec": {
   "display_name": "Python 3 (ipykernel)",
   "language": "python",
   "name": "python3"
  },
  "language_info": {
   "codemirror_mode": {
    "name": "ipython",
    "version": 3
   },
   "file_extension": ".py",
   "mimetype": "text/x-python",
   "name": "python",
   "nbconvert_exporter": "python",
   "pygments_lexer": "ipython3",
   "version": "3.8.8"
  }
 },
 "nbformat": 4,
 "nbformat_minor": 5
}
